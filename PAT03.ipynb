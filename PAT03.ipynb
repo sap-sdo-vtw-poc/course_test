{
 "cells": [
  {
   "cell_type": "markdown",
   "id": "1f4d8da6",
   "metadata": {
    "slideshow": {
     "slide_type": "slide"
    }
   },
   "source": [
    "# New Order\n",
    "\n",
    "I used to think that this day would never come\n",
    "\n",
    "![header-image](PATimage/2.jpg)"
   ]
  },
  {
   "cell_type": "markdown",
   "id": "6bbce347",
   "metadata": {
    "slideshow": {
     "slide_type": "notes"
    }
   },
   "source": [
    "Let's translate our slides and notes, Eugene told me."
   ]
  },
  {
   "cell_type": "markdown",
   "id": "d28be0a1",
   "metadata": {
    "slideshow": {
     "slide_type": "slide"
    }
   },
   "source": [
    "# True Faith\n",
    "\n",
    "![header-image](PATimage/1.jpeg)\n",
    "\n",
    "Never understood American Psycho, but now i do. :)"
   ]
  },
  {
   "cell_type": "markdown",
   "id": "3e00cd7a",
   "metadata": {
    "slideshow": {
     "slide_type": "notes"
    }
   },
   "source": [
    "It's hip to be square!"
   ]
  },
  {
   "cell_type": "markdown",
   "id": "715c18f0",
   "metadata": {
    "slideshow": {
     "slide_type": "slide"
    }
   },
   "source": [
    "# What is PREY?\n",
    "\n",
    "# Column\n",
    "Time to beat the mind game.\n",
    "\n",
    "# Column\n",
    "![header-image](PATimage/3.jpg)"
   ]
  },
  {
   "cell_type": "markdown",
   "id": "95414ec9",
   "metadata": {
    "slideshow": {
     "slide_type": "notes"
    }
   },
   "source": [
    "Deus Ex is a must such projects as Jupyter."
   ]
  }
 ],
 "metadata": {
  "celltoolbar": "Slideshow",
  "kernelspec": {
   "display_name": "Python 3 (ipykernel)",
   "language": "python",
   "name": "python3"
  },
  "language_info": {
   "codemirror_mode": {
    "name": "ipython",
    "version": 3
   },
   "file_extension": ".py",
   "mimetype": "text/x-python",
   "name": "python",
   "nbconvert_exporter": "python",
   "pygments_lexer": "ipython3",
   "version": "3.9.7"
  },
  "nbTranslate": {
   "displayLangs": [
    "*"
   ],
   "hotkey": "alt-t",
   "langInMainMenu": true,
   "sourceLang": "en",
   "targetLang": "fr",
   "useGoogleTranslate": true
  },
  "varInspector": {
   "cols": {
    "lenName": 16,
    "lenType": 16,
    "lenVar": 40
   },
   "kernels_config": {
    "python": {
     "delete_cmd_postfix": "",
     "delete_cmd_prefix": "del ",
     "library": "var_list.py",
     "varRefreshCmd": "print(var_dic_list())"
    },
    "r": {
     "delete_cmd_postfix": ") ",
     "delete_cmd_prefix": "rm(",
     "library": "var_list.r",
     "varRefreshCmd": "cat(var_dic_list()) "
    }
   },
   "types_to_exclude": [
    "module",
    "function",
    "builtin_function_or_method",
    "instance",
    "_Feature"
   ],
   "window_display": false
  }
 },
 "nbformat": 4,
 "nbformat_minor": 5
}
