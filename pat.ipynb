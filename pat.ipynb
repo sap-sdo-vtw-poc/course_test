{
 "cells": [
  {
   "cell_type": "markdown",
   "id": "22bcc817",
   "metadata": {
    "lang": "en",
    "slideshow": {
     "slide_type": "slide"
    }
   },
   "source": [
    "# New Order\n",
    "\n",
    "I used to think that this day would never come\n",
    "\n",
    "![header-image](PATimage/2.jpg)"
   ]
  },
  {
   "cell_type": "markdown",
   "id": "b86928af",
   "metadata": {
    "lang": "zh-tw"
   },
   "source": [
    "＃ 新命令\n",
    "\n",
    "我曾經以為這一天永遠不會到來\n",
    "\n",
    "![header-image](PATimage/2.jpg)"
   ]
  },
  {
   "cell_type": "markdown",
   "id": "9453e7b2",
   "metadata": {
    "lang": "es"
   },
   "source": [
    "# Nuevo orden\n",
    "\n",
    "Yo solía pensar que este día nunca llegaría\n",
    "\n",
    "![header-image](PATimage/2.jpg)"
   ]
  },
  {
   "cell_type": "markdown",
   "id": "8ded8c0d",
   "metadata": {
    "lang": "ja"
   },
   "source": [
    "＃ 新規注文\n",
    "\n",
    "この日は絶対に来ないと思っていました\n",
    "\n",
    "![header-image](PATimage/2.jpg)"
   ]
  },
  {
   "cell_type": "markdown",
   "id": "63b53615",
   "metadata": {
    "lang": "de"
   },
   "source": [
    "# Neue Ordnung\n",
    "\n",
    "Früher dachte ich, dass dieser Tag niemals kommen würde\n",
    "\n",
    "![header-image](PATimage/2.jpg)"
   ]
  },
  {
   "cell_type": "markdown",
   "id": "389d2dd8",
   "metadata": {
    "lang": "ko"
   },
   "source": [
    "# 새로운 주문\n",
    "\n",
    "이런 날은 절대 오지 않을 거라 생각했는데\n",
    "\n",
    "![header-image](PATimage/2.jpg)"
   ]
  },
  {
   "cell_type": "markdown",
   "id": "969594e4",
   "metadata": {
    "lang": "it"
   },
   "source": [
    "# Nuovo ordine\n",
    "\n",
    "Pensavo che questo giorno non sarebbe mai arrivato\n",
    "\n",
    "![header-image](PATimage/2.jpg)"
   ]
  },
  {
   "cell_type": "markdown",
   "id": "2021a9d0",
   "metadata": {
    "lang": "zh-cn"
   },
   "source": [
    "＃ 新命令\n",
    "\n",
    "我曾经以为这一天永远不会到来\n",
    "\n",
    "![header-image](PATimage/2.jpg)"
   ]
  },
  {
   "cell_type": "markdown",
   "id": "358e05e2",
   "metadata": {
    "lang": "fr"
   },
   "source": [
    "# Nouvelle commande\n",
    "\n",
    "J'avais l'habitude de penser que ce jour ne viendrait jamais\n",
    "\n",
    "![header-image](PATimage/2.jpg)"
   ]
  },
  {
   "cell_type": "markdown",
   "id": "f22e9b5c",
   "metadata": {
    "lang": "en",
    "slideshow": {
     "slide_type": "notes"
    }
   },
   "source": [
    "Let's translate our slides and notes, Eugene told me."
   ]
  },
  {
   "cell_type": "markdown",
   "id": "f74dd256",
   "metadata": {
    "lang": "zh-tw",
    "slideshow": {
     "slide_type": "notes"
    }
   },
   "source": [
    "尤金告訴我，讓我們翻譯我們的幻燈片和筆記。"
   ]
  },
  {
   "cell_type": "markdown",
   "id": "e2dd982e",
   "metadata": {
    "lang": "es",
    "slideshow": {
     "slide_type": "notes"
    }
   },
   "source": [
    "Traduzcamos nuestras diapositivas y notas, me dijo Eugene."
   ]
  },
  {
   "cell_type": "markdown",
   "id": "c2a762cc",
   "metadata": {
    "lang": "ja",
    "slideshow": {
     "slide_type": "notes"
    }
   },
   "source": [
    "スライドとメモを翻訳しましょう、とユージーンは私に言いました。"
   ]
  },
  {
   "cell_type": "markdown",
   "id": "01aca0e3",
   "metadata": {
    "lang": "de",
    "slideshow": {
     "slide_type": "notes"
    }
   },
   "source": [
    "Lassen Sie uns unsere Folien und Notizen übersetzen, sagte Eugene zu mir."
   ]
  },
  {
   "cell_type": "markdown",
   "id": "568a8378",
   "metadata": {
    "lang": "ko",
    "slideshow": {
     "slide_type": "notes"
    }
   },
   "source": [
    "슬라이드와 노트를 번역하자고 Eugene이 말했습니다."
   ]
  },
  {
   "cell_type": "markdown",
   "id": "9bc95225",
   "metadata": {
    "lang": "it",
    "slideshow": {
     "slide_type": "notes"
    }
   },
   "source": [
    "Traduciamo le nostre diapositive e note, mi ha detto Eugene."
   ]
  },
  {
   "cell_type": "markdown",
   "id": "ae5e88bf",
   "metadata": {
    "lang": "zh-cn",
    "slideshow": {
     "slide_type": "notes"
    }
   },
   "source": [
    "尤金告诉我，让我们翻译我们的幻灯片和笔记。"
   ]
  },
  {
   "cell_type": "markdown",
   "id": "0866745c",
   "metadata": {
    "lang": "fr",
    "slideshow": {
     "slide_type": "notes"
    }
   },
   "source": [
    "Traduisons nos diapositives et nos notes, m'a dit Eugene."
   ]
  },
  {
   "cell_type": "markdown",
   "id": "e14396e0",
   "metadata": {
    "lang": "en",
    "slideshow": {
     "slide_type": "slide"
    }
   },
   "source": [
    "# True Faith\n",
    "\n",
    "![header-image](PATimage/1.jpeg)\n",
    "\n",
    "Never understood American Psycho, but now i do. :)"
   ]
  },
  {
   "cell_type": "markdown",
   "id": "4fe3b41b",
   "metadata": {
    "lang": "zh-tw"
   },
   "source": [
    "＃ 真正的信仰\n",
    "\n",
    "![header-image](PATimage/1.jpeg)\n",
    "\n",
    "從來不了解美國精神病，但現在我明白了。 :)"
   ]
  },
  {
   "cell_type": "markdown",
   "id": "f6fc5da0",
   "metadata": {
    "lang": "es"
   },
   "source": [
    "# Verdadera fe\n",
    "\n",
    "![header-image](PATimage/1.jpeg)\n",
    "\n",
    "Nunca entendí American Psycho, pero ahora sí. :)"
   ]
  },
  {
   "cell_type": "markdown",
   "id": "b2d75a0f",
   "metadata": {
    "lang": "ja"
   },
   "source": [
    "＃真の信仰\n",
    "\n",
    "![header-image](PATimage/1.jpeg)\n",
    "\n",
    "American Psychoを理解したことはありませんが、今は理解しています。 :)"
   ]
  },
  {
   "cell_type": "markdown",
   "id": "dc31c998",
   "metadata": {
    "lang": "de"
   },
   "source": [
    "# Wahrer Glaube\n",
    "\n",
    "![header-image](PATimage/1.jpeg)\n",
    "\n",
    "Ich habe American Psycho nie verstanden, aber jetzt tue ich es. :)"
   ]
  },
  {
   "cell_type": "markdown",
   "id": "1bb867ab",
   "metadata": {
    "lang": "ko"
   },
   "source": [
    "# 참된 믿음\n",
    "\n",
    "![header-image](PATimage/1.jpeg)\n",
    "\n",
    "American Psycho를 이해한 적이 없지만 지금은 이해합니다. :)"
   ]
  },
  {
   "cell_type": "markdown",
   "id": "906aaed1",
   "metadata": {
    "lang": "it"
   },
   "source": [
    "# Vera fede\n",
    "\n",
    "![header-image](PATimage/1.jpeg)\n",
    "\n",
    "Non ho mai capito American Psycho, ma ora lo capisco. :)"
   ]
  },
  {
   "cell_type": "markdown",
   "id": "9dd07fc1",
   "metadata": {
    "lang": "zh-cn"
   },
   "source": [
    "＃ 真正的信仰\n",
    "\n",
    "![header-image](PATimage/1.jpeg)\n",
    "\n",
    "从来不了解美国精神病，但现在我明白了。 :)"
   ]
  },
  {
   "cell_type": "markdown",
   "id": "440e3981",
   "metadata": {
    "lang": "fr"
   },
   "source": [
    "# Vraie Foi\n",
    "\n",
    "![header-image](PATimage/1.jpeg)\n",
    "\n",
    "Je n'ai jamais compris American Psycho, mais maintenant je comprends. :)"
   ]
  },
  {
   "cell_type": "markdown",
   "id": "3291232f",
   "metadata": {
    "lang": "en",
    "slideshow": {
     "slide_type": "notes"
    }
   },
   "source": [
    "It's hip to be square!"
   ]
  },
  {
   "cell_type": "markdown",
   "id": "fc384b94",
   "metadata": {
    "lang": "zh-tw",
    "slideshow": {
     "slide_type": "notes"
    }
   },
   "source": [
    "方方正正的很時髦！"
   ]
  },
  {
   "cell_type": "markdown",
   "id": "59150521",
   "metadata": {
    "lang": "es",
    "slideshow": {
     "slide_type": "notes"
    }
   },
   "source": [
    "¡Es moderno ser cuadrado!"
   ]
  },
  {
   "cell_type": "markdown",
   "id": "8be8ecd4",
   "metadata": {
    "lang": "ja",
    "slideshow": {
     "slide_type": "notes"
    }
   },
   "source": [
    "四角いのはヒップです！"
   ]
  },
  {
   "cell_type": "markdown",
   "id": "cfd758b0",
   "metadata": {
    "lang": "de",
    "slideshow": {
     "slide_type": "notes"
    }
   },
   "source": [
    "Es ist angesagt, eckig zu sein!"
   ]
  },
  {
   "cell_type": "markdown",
   "id": "f232e0cd",
   "metadata": {
    "lang": "ko",
    "slideshow": {
     "slide_type": "notes"
    }
   },
   "source": [
    "정사각형이 되는 것이 멋져요!"
   ]
  },
  {
   "cell_type": "markdown",
   "id": "b77010a6",
   "metadata": {
    "lang": "it",
    "slideshow": {
     "slide_type": "notes"
    }
   },
   "source": [
    "È alla moda essere quadrati!"
   ]
  },
  {
   "cell_type": "markdown",
   "id": "fa987af1",
   "metadata": {
    "lang": "zh-cn",
    "slideshow": {
     "slide_type": "notes"
    }
   },
   "source": [
    "方方正正的很时髦！"
   ]
  },
  {
   "cell_type": "markdown",
   "id": "e0fd8d7b",
   "metadata": {
    "lang": "fr",
    "slideshow": {
     "slide_type": "notes"
    }
   },
   "source": [
    "C'est branché d'être carré !"
   ]
  },
  {
   "cell_type": "markdown",
   "id": "81cd33f9",
   "metadata": {
    "lang": "en",
    "slideshow": {
     "slide_type": "slide"
    }
   },
   "source": [
    "# What is PREY?\n",
    "\n",
    "# Column\n",
    "Time to beat the mind game.\n",
    "\n",
    "# Column\n",
    "![header-image](PATimage/3.jpg)"
   ]
  },
  {
   "cell_type": "markdown",
   "id": "8a60885f",
   "metadata": {
    "lang": "zh-tw"
   },
   "source": [
    "#什麼是獵物？\n",
    "\n",
    "# Column\n",
    "是時候打敗智力遊戲了。\n",
    "\n",
    "# Column\n",
    "![header-image](PATimage/3.jpg)"
   ]
  },
  {
   "cell_type": "markdown",
   "id": "c542be94",
   "metadata": {
    "lang": "es"
   },
   "source": [
    "# ¿Qué es PREY?\n",
    "\n",
    "# Column\n",
    "Es hora de vencer el juego mental.\n",
    "\n",
    "# Column\n",
    "![header-image](PATimage/3.jpg)"
   ]
  },
  {
   "cell_type": "markdown",
   "id": "2eb02db1",
   "metadata": {
    "lang": "ja"
   },
   "source": [
    "＃PREYとは？\n",
    "\n",
    "# Column\n",
    "マインドゲームに勝つ時間。\n",
    "\n",
    "# Column\n",
    "![header-image](PATimage/3.jpg)"
   ]
  },
  {
   "cell_type": "markdown",
   "id": "1129854e",
   "metadata": {
    "lang": "de"
   },
   "source": [
    "# Was ist PREY?\n",
    "\n",
    "# Column\n",
    "Zeit, das Gedankenspiel zu schlagen.\n",
    "\n",
    "# Column\n",
    "![header-image](PATimage/3.jpg)"
   ]
  },
  {
   "cell_type": "markdown",
   "id": "3efac72c",
   "metadata": {
    "lang": "ko"
   },
   "source": [
    "# PREY란?\n",
    "\n",
    "# Column\n",
    "마인드 게임을 이길 시간입니다.\n",
    "\n",
    "# Column\n",
    "![header-image](PATimage/3.jpg)"
   ]
  },
  {
   "cell_type": "markdown",
   "id": "a787357b",
   "metadata": {
    "lang": "it"
   },
   "source": [
    "# Cos'è PREY?\n",
    "\n",
    "# Column\n",
    "È ora di battere il gioco mentale.\n",
    "\n",
    "# Column\n",
    "![header-image](PATimage/3.jpg)"
   ]
  },
  {
   "cell_type": "markdown",
   "id": "9cc9dbb9",
   "metadata": {
    "lang": "zh-cn"
   },
   "source": [
    "#什么是猎物？\n",
    "\n",
    "# Column\n",
    "是时候打败智力游戏了。\n",
    "\n",
    "# Column\n",
    "![header-image](PATimage/3.jpg)"
   ]
  },
  {
   "cell_type": "markdown",
   "id": "516801cf",
   "metadata": {
    "lang": "fr"
   },
   "source": [
    "# Qu'est-ce que PREY ?\n",
    "\n",
    "# Column\n",
    "Il est temps de battre le jeu de l'esprit.\n",
    "\n",
    "# Column\n",
    "![header-image](PATimage/3.jpg)"
   ]
  },
  {
   "cell_type": "markdown",
   "id": "35b518dc",
   "metadata": {
    "lang": "en",
    "slideshow": {
     "slide_type": "notes"
    }
   },
   "source": [
    "Deus Ex is a must such projects as Jupyter."
   ]
  },
  {
   "cell_type": "markdown",
   "id": "5d0a9983",
   "metadata": {
    "lang": "zh-tw",
    "slideshow": {
     "slide_type": "notes"
    }
   },
   "source": [
    "Deus Ex 是 Jupyter 之類的必備項目。"
   ]
  },
  {
   "cell_type": "markdown",
   "id": "5a180519",
   "metadata": {
    "lang": "es",
    "slideshow": {
     "slide_type": "notes"
    }
   },
   "source": [
    "Deus Ex es imprescindible en proyectos como Jupyter."
   ]
  },
  {
   "cell_type": "markdown",
   "id": "b96d91e0",
   "metadata": {
    "lang": "ja",
    "slideshow": {
     "slide_type": "notes"
    }
   },
   "source": [
    "Deus Exは、Jupyterなどの必須プロジェクトです。"
   ]
  },
  {
   "cell_type": "markdown",
   "id": "aceab415",
   "metadata": {
    "lang": "de",
    "slideshow": {
     "slide_type": "notes"
    }
   },
   "source": [
    "Deus Ex ist ein Muss für solche Projekte wie Jupyter."
   ]
  },
  {
   "cell_type": "markdown",
   "id": "96d1243a",
   "metadata": {
    "lang": "ko",
    "slideshow": {
     "slide_type": "notes"
    }
   },
   "source": [
    "Deus Ex는 Jupyter와 같은 필수 프로젝트입니다."
   ]
  },
  {
   "cell_type": "markdown",
   "id": "f77535ed",
   "metadata": {
    "lang": "it",
    "slideshow": {
     "slide_type": "notes"
    }
   },
   "source": [
    "Deus Ex è un must per progetti come Jupyter."
   ]
  },
  {
   "cell_type": "markdown",
   "id": "29b60c56",
   "metadata": {
    "lang": "zh-cn",
    "slideshow": {
     "slide_type": "notes"
    }
   },
   "source": [
    "Deus Ex 是 Jupyter 之类的必备项目。"
   ]
  },
  {
   "cell_type": "markdown",
   "id": "1251fe21",
   "metadata": {
    "lang": "fr",
    "slideshow": {
     "slide_type": "notes"
    }
   },
   "source": [
    "Deus Ex est un incontournable des projets tels que Jupyter."
   ]
  }
 ],
 "metadata": {
  "celltoolbar": "Slideshow",
  "kernelspec": {
   "display_name": "Python 3 (ipykernel)",
   "language": "python",
   "name": "python3"
  },
  "language_info": {
   "codemirror_mode": {
    "name": "ipython",
    "version": 3
   },
   "file_extension": ".py",
   "mimetype": "text/x-python",
   "name": "python",
   "nbconvert_exporter": "python",
   "pygments_lexer": "ipython3",
   "version": "3.9.7"
  },
  "nbTranslate": {
   "displayLangs": [
    "en",
    "zh-tw"
   ],
   "hotkey": "alt-t",
   "langInMainMenu": true,
   "sourceLang": "en",
   "targetLang": "zh-tw",
   "useGoogleTranslate": true
  },
  "varInspector": {
   "cols": {
    "lenName": 16,
    "lenType": 16,
    "lenVar": 40
   },
   "kernels_config": {
    "python": {
     "delete_cmd_postfix": "",
     "delete_cmd_prefix": "del ",
     "library": "var_list.py",
     "varRefreshCmd": "print(var_dic_list())"
    },
    "r": {
     "delete_cmd_postfix": ") ",
     "delete_cmd_prefix": "rm(",
     "library": "var_list.r",
     "varRefreshCmd": "cat(var_dic_list()) "
    }
   },
   "types_to_exclude": [
    "module",
    "function",
    "builtin_function_or_method",
    "instance",
    "_Feature"
   ],
   "window_display": false
  }
 },
 "nbformat": 4,
 "nbformat_minor": 5
}
