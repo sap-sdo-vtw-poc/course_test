{
 "cells": [
  {
   "cell_type": "markdown",
   "id": "22bcc817",
   "metadata": {
    "heading_collapsed": true,
    "lang": "en",
    "slideshow": {
     "slide_type": "slide"
    }
   },
   "source": [
    "# New Order\n",
    "\n",
    "I used to think that this day would never come\n",
    "\n",
    "![header-image](PATimage/2.jpg)"
   ]
  },
  {
   "cell_type": "markdown",
   "id": "969594e4",
   "metadata": {
    "lang": "it"
   },
   "source": [
    "# Nuovo ordine\n",
    "\n",
    "Pensavo che questo giorno non sarebbe mai arrivato\n",
    "\n",
    "![header-image](PATimage/2.jpg)"
   ]
  },
  {
   "cell_type": "markdown",
   "id": "2021a9d0",
   "metadata": {
    "lang": "zh-cn"
   },
   "source": [
    "＃ 新命令\n",
    "\n",
    "我曾经以为这一天永远不会到来\n",
    "\n",
    "![header-image](PATimage/2.jpg)"
   ]
  },
  {
   "cell_type": "markdown",
   "id": "358e05e2",
   "metadata": {
    "lang": "fr"
   },
   "source": [
    "# Nouvelle commande\n",
    "\n",
    "J'avais l'habitude de penser que ce jour ne viendrait jamais\n",
    "\n",
    "![header-image](PATimage/2.jpg)"
   ]
  },
  {
   "cell_type": "markdown",
   "id": "f22e9b5c",
   "metadata": {
    "lang": "en",
    "slideshow": {
     "slide_type": "notes"
    }
   },
   "source": [
    "Let's translate our slides and notes, Eugene told me."
   ]
  },
  {
   "cell_type": "markdown",
   "id": "9bc95225",
   "metadata": {
    "lang": "it",
    "slideshow": {
     "slide_type": "notes"
    }
   },
   "source": [
    "Traduciamo le nostre diapositive e note, mi ha detto Eugene."
   ]
  },
  {
   "cell_type": "markdown",
   "id": "ae5e88bf",
   "metadata": {
    "lang": "zh-cn",
    "slideshow": {
     "slide_type": "notes"
    }
   },
   "source": [
    "尤金告诉我，让我们翻译我们的幻灯片和笔记。"
   ]
  },
  {
   "cell_type": "markdown",
   "id": "0866745c",
   "metadata": {
    "lang": "fr",
    "slideshow": {
     "slide_type": "notes"
    }
   },
   "source": [
    "Traduisons nos diapositives et nos notes, m'a dit Eugene."
   ]
  },
  {
   "cell_type": "markdown",
   "id": "e14396e0",
   "metadata": {
    "lang": "en",
    "slideshow": {
     "slide_type": "slide"
    }
   },
   "source": [
    "# True Faith\n",
    "\n",
    "![header-image](PATimage/1.jpeg)\n",
    "\n",
    "Never understood American Psycho, but now i do. :)"
   ]
  },
  {
   "cell_type": "markdown",
   "id": "906aaed1",
   "metadata": {
    "lang": "it"
   },
   "source": [
    "# Vera fede\n",
    "\n",
    "![header-image](PATimage/1.jpeg)\n",
    "\n",
    "Non ho mai capito American Psycho, ma ora lo capisco. :)"
   ]
  },
  {
   "cell_type": "markdown",
   "id": "9dd07fc1",
   "metadata": {
    "lang": "zh-cn"
   },
   "source": [
    "＃ 真正的信仰\n",
    "\n",
    "![header-image](PATimage/1.jpeg)\n",
    "\n",
    "从来不了解美国精神病，但现在我明白了。 :)"
   ]
  },
  {
   "cell_type": "markdown",
   "id": "440e3981",
   "metadata": {
    "lang": "fr"
   },
   "source": [
    "# Vraie Foi\n",
    "\n",
    "![header-image](PATimage/1.jpeg)\n",
    "\n",
    "Je n'ai jamais compris American Psycho, mais maintenant je comprends. :)"
   ]
  },
  {
   "cell_type": "markdown",
   "id": "3291232f",
   "metadata": {
    "lang": "en",
    "slideshow": {
     "slide_type": "notes"
    }
   },
   "source": [
    "It's hip to be square!"
   ]
  },
  {
   "cell_type": "markdown",
   "id": "b77010a6",
   "metadata": {
    "lang": "it",
    "slideshow": {
     "slide_type": "notes"
    }
   },
   "source": [
    "È alla moda essere quadrati!"
   ]
  },
  {
   "cell_type": "markdown",
   "id": "fa987af1",
   "metadata": {
    "lang": "zh-cn",
    "slideshow": {
     "slide_type": "notes"
    }
   },
   "source": [
    "方方正正的很时髦！"
   ]
  },
  {
   "cell_type": "markdown",
   "id": "e0fd8d7b",
   "metadata": {
    "lang": "fr",
    "slideshow": {
     "slide_type": "notes"
    }
   },
   "source": [
    "C'est branché d'être carré !"
   ]
  },
  {
   "cell_type": "markdown",
   "id": "81cd33f9",
   "metadata": {
    "lang": "en",
    "slideshow": {
     "slide_type": "slide"
    }
   },
   "source": [
    "# What is PREY?\n",
    "\n",
    "# Column\n",
    "Time to beat the mind game.\n",
    "\n",
    "# Column\n",
    "![header-image](PATimage/3.jpg)"
   ]
  },
  {
   "cell_type": "markdown",
   "id": "a787357b",
   "metadata": {
    "lang": "it"
   },
   "source": [
    "# Cos'è PREY?\n",
    "\n",
    "# Column\n",
    "È ora di battere il gioco mentale.\n",
    "\n",
    "# Column\n",
    "![header-image](PATimage/3.jpg)"
   ]
  },
  {
   "cell_type": "markdown",
   "id": "9cc9dbb9",
   "metadata": {
    "lang": "zh-cn"
   },
   "source": [
    "#什么是猎物？\n",
    "\n",
    "# Column\n",
    "是时候打败智力游戏了。\n",
    "\n",
    "# Column\n",
    "![header-image](PATimage/3.jpg)"
   ]
  },
  {
   "cell_type": "markdown",
   "id": "516801cf",
   "metadata": {
    "lang": "fr"
   },
   "source": [
    "# Qu'est-ce que PREY ?\n",
    "\n",
    "# Column\n",
    "Il est temps de battre le jeu de l'esprit.\n",
    "\n",
    "# Column\n",
    "![header-image](PATimage/3.jpg)"
   ]
  },
  {
   "cell_type": "markdown",
   "id": "35b518dc",
   "metadata": {
    "lang": "en",
    "slideshow": {
     "slide_type": "notes"
    }
   },
   "source": [
    "Deus Ex is a must such projects as Jupyter."
   ]
  },
  {
   "cell_type": "markdown",
   "id": "f77535ed",
   "metadata": {
    "lang": "it",
    "slideshow": {
     "slide_type": "notes"
    }
   },
   "source": [
    "Deus Ex è un must per progetti come Jupyter."
   ]
  },
  {
   "cell_type": "markdown",
   "id": "29b60c56",
   "metadata": {
    "lang": "zh-cn",
    "slideshow": {
     "slide_type": "notes"
    }
   },
   "source": [
    "Deus Ex 是 Jupyter 之类的必备项目。"
   ]
  },
  {
   "cell_type": "markdown",
   "id": "1251fe21",
   "metadata": {
    "lang": "fr",
    "slideshow": {
     "slide_type": "notes"
    }
   },
   "source": [
    "Deus Ex est un incontournable des projets tels que Jupyter."
   ]
  }
 ],
 "metadata": {
  "celltoolbar": "Slideshow",
  "kernelspec": {
   "display_name": "Python 3 (ipykernel)",
   "language": "python",
   "name": "python3"
  },
  "language_info": {
   "codemirror_mode": {
    "name": "ipython",
    "version": 3
   },
   "file_extension": ".py",
   "mimetype": "text/x-python",
   "name": "python",
   "nbconvert_exporter": "python",
   "pygments_lexer": "ipython3",
   "version": "3.9.7"
  },
  "nbTranslate": {
   "displayLangs": [
    "*"
   ],
   "hotkey": "alt-t",
   "langInMainMenu": true,
   "sourceLang": "en",
   "targetLang": "it",
   "useGoogleTranslate": true
  },
  "varInspector": {
   "cols": {
    "lenName": 16,
    "lenType": 16,
    "lenVar": 40
   },
   "kernels_config": {
    "python": {
     "delete_cmd_postfix": "",
     "delete_cmd_prefix": "del ",
     "library": "var_list.py",
     "varRefreshCmd": "print(var_dic_list())"
    },
    "r": {
     "delete_cmd_postfix": ") ",
     "delete_cmd_prefix": "rm(",
     "library": "var_list.r",
     "varRefreshCmd": "cat(var_dic_list()) "
    }
   },
   "types_to_exclude": [
    "module",
    "function",
    "builtin_function_or_method",
    "instance",
    "_Feature"
   ],
   "window_display": false
  }
 },
 "nbformat": 4,
 "nbformat_minor": 5
}
