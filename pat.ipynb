{
 "cells": [
  {
   "cell_type": "markdown",
   "id": "518abc2b",
   "metadata": {
    "heading_collapsed": true,
    "lang": "en",
    "slideshow": {
     "slide_type": "slide"
    }
   },
   "source": [
    "# New Order\n",
    "\n",
    "I used to think that this day would never come\n",
    "\n",
    "![header-image](PATimage/2.jpg)"
   ]
  },
  {
   "cell_type": "markdown",
   "id": "60ee766a",
   "metadata": {
    "lang": "it"
   },
   "source": [
    "# Nuovo ordine\n",
    "\n",
    "Pensavo che questo giorno non sarebbe mai arrivato\n",
    "\n",
    "![header-image](PATimage/2.jpg)"
   ]
  },
  {
   "cell_type": "markdown",
   "id": "635bc925",
   "metadata": {
    "lang": "zh-cn"
   },
   "source": [
    "＃ 新命令\n",
    "\n",
    "我曾经以为这一天永远不会到来\n",
    "\n",
    "![header-image](PATimage/2.jpg)"
   ]
  },
  {
   "cell_type": "markdown",
   "id": "86396066",
   "metadata": {
    "lang": "fr"
   },
   "source": [
    "# Nouvelle commande\n",
    "\n",
    "J'avais l'habitude de penser que ce jour ne viendrait jamais\n",
    "\n",
    "![header-image](PATimage/2.jpg)"
   ]
  },
  {
   "cell_type": "markdown",
   "id": "4ba805ad",
   "metadata": {
    "lang": "en",
    "slideshow": {
     "slide_type": "notes"
    }
   },
   "source": [
    "Let's translate our slides and notes, Eugene told me."
   ]
  },
  {
   "cell_type": "markdown",
   "id": "31a4a127",
   "metadata": {
    "lang": "it"
   },
   "source": [
    "Traduciamo le nostre diapositive e note, mi ha detto Eugene."
   ]
  },
  {
   "cell_type": "markdown",
   "id": "a552a9e1",
   "metadata": {
    "lang": "zh-cn"
   },
   "source": [
    "尤金告诉我，让我们翻译我们的幻灯片和笔记。"
   ]
  },
  {
   "cell_type": "markdown",
   "id": "173e13d8",
   "metadata": {
    "lang": "fr"
   },
   "source": [
    "Traduisons nos diapositives et nos notes, m'a dit Eugene."
   ]
  },
  {
   "cell_type": "markdown",
   "id": "72597821",
   "metadata": {
    "lang": "en",
    "slideshow": {
     "slide_type": "slide"
    }
   },
   "source": [
    "# True Faith\n",
    "\n",
    "![header-image](PATimage/1.jpeg)\n",
    "\n",
    "Never understood American Psycho, but now i do. :)"
   ]
  },
  {
   "cell_type": "markdown",
   "id": "e64027c2",
   "metadata": {
    "lang": "it"
   },
   "source": [
    "# Vera fede\n",
    "\n",
    "![header-image](PATimage/1.jpeg)\n",
    "\n",
    "Non ho mai capito American Psycho, ma ora lo capisco. :)"
   ]
  },
  {
   "cell_type": "markdown",
   "id": "30a63280",
   "metadata": {
    "lang": "zh-cn"
   },
   "source": [
    "＃ 真正的信仰\n",
    "\n",
    "![header-image](PATimage/1.jpeg)\n",
    "\n",
    "从来不了解美国精神病，但现在我明白了。 :)"
   ]
  },
  {
   "cell_type": "markdown",
   "id": "8e958b75",
   "metadata": {
    "lang": "fr"
   },
   "source": [
    "# Vraie Foi\n",
    "\n",
    "![header-image](PATimage/1.jpeg)\n",
    "\n",
    "Je n'ai jamais compris American Psycho, mais maintenant je comprends. :)"
   ]
  },
  {
   "cell_type": "markdown",
   "id": "cf2ff6a4",
   "metadata": {
    "lang": "en",
    "slideshow": {
     "slide_type": "notes"
    }
   },
   "source": [
    "It's hip to be square!"
   ]
  },
  {
   "cell_type": "markdown",
   "id": "7a9b0e47",
   "metadata": {
    "lang": "it"
   },
   "source": [
    "È alla moda essere quadrati!"
   ]
  },
  {
   "cell_type": "markdown",
   "id": "a0ec983a",
   "metadata": {
    "lang": "zh-cn"
   },
   "source": [
    "方方正正的很时髦！"
   ]
  },
  {
   "cell_type": "markdown",
   "id": "260650af",
   "metadata": {
    "lang": "fr"
   },
   "source": [
    "C'est branché d'être carré !"
   ]
  },
  {
   "cell_type": "markdown",
   "id": "34efb8ef",
   "metadata": {
    "lang": "en",
    "slideshow": {
     "slide_type": "slide"
    }
   },
   "source": [
    "# What is PREY?\n",
    "\n",
    "# Column\n",
    "Time to beat the mind game.\n",
    "\n",
    "# Column\n",
    "![header-image](PATimage/3.jpg)"
   ]
  },
  {
   "cell_type": "markdown",
   "id": "786fee42",
   "metadata": {
    "lang": "it"
   },
   "source": [
    "# Cos'è PREY?\n",
    "\n",
    "# Column\n",
    "È ora di battere il gioco mentale.\n",
    "\n",
    "# Column\n",
    "![header-image](PATimage/3.jpg)"
   ]
  },
  {
   "cell_type": "markdown",
   "id": "001a561e",
   "metadata": {
    "lang": "zh-cn"
   },
   "source": [
    "#什么是猎物？\n",
    "\n",
    "# Column\n",
    "是时候打败智力游戏了。\n",
    "\n",
    "# Column\n",
    "![header-image](PATimage/3.jpg)"
   ]
  },
  {
   "cell_type": "markdown",
   "id": "8574f230",
   "metadata": {
    "lang": "fr"
   },
   "source": [
    "# Qu'est-ce que PREY ?\n",
    "\n",
    "# Column\n",
    "Il est temps de battre le jeu de l'esprit.\n",
    "\n",
    "# Column\n",
    "![header-image](PATimage/3.jpg)"
   ]
  },
  {
   "cell_type": "markdown",
   "id": "07b3b0a5",
   "metadata": {
    "lang": "en",
    "slideshow": {
     "slide_type": "notes"
    }
   },
   "source": [
    "Deus Ex is a must such projects as Jupyter."
   ]
  },
  {
   "cell_type": "markdown",
   "id": "e7ba0f0b",
   "metadata": {
    "lang": "it"
   },
   "source": [
    "Deus Ex è un must per progetti come Jupyter."
   ]
  },
  {
   "cell_type": "markdown",
   "id": "e6bdcf89",
   "metadata": {
    "lang": "zh-cn"
   },
   "source": [
    "Deus Ex 是 Jupyter 之类的必备项目。"
   ]
  },
  {
   "cell_type": "markdown",
   "id": "cb03fb26",
   "metadata": {
    "lang": "fr"
   },
   "source": [
    "Deus Ex est un incontournable des projets tels que Jupyter."
   ]
  }
 ],
 "metadata": {
  "celltoolbar": "Slideshow",
  "kernelspec": {
   "display_name": "Python 3 (ipykernel)",
   "language": "python",
   "name": "python3"
  },
  "language_info": {
   "codemirror_mode": {
    "name": "ipython",
    "version": 3
   },
   "file_extension": ".py",
   "mimetype": "text/x-python",
   "name": "python",
   "nbconvert_exporter": "python",
   "pygments_lexer": "ipython3",
   "version": "3.9.7"
  },
  "nbTranslate": {
   "displayLangs": [
    "en"
   ],
   "hotkey": "alt-t",
   "langInMainMenu": true,
   "sourceLang": "en",
   "targetLang": "it",
   "useGoogleTranslate": true
  },
  "varInspector": {
   "cols": {
    "lenName": 16,
    "lenType": 16,
    "lenVar": 40
   },
   "kernels_config": {
    "python": {
     "delete_cmd_postfix": "",
     "delete_cmd_prefix": "del ",
     "library": "var_list.py",
     "varRefreshCmd": "print(var_dic_list())"
    },
    "r": {
     "delete_cmd_postfix": ") ",
     "delete_cmd_prefix": "rm(",
     "library": "var_list.r",
     "varRefreshCmd": "cat(var_dic_list()) "
    }
   },
   "types_to_exclude": [
    "module",
    "function",
    "builtin_function_or_method",
    "instance",
    "_Feature"
   ],
   "window_display": false
  }
 },
 "nbformat": 4,
 "nbformat_minor": 5
}
