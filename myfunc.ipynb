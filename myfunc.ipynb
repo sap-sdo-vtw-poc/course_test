{
 "cells": [
  {
   "cell_type": "code",
   "execution_count": 1,
   "id": "dc788a6c",
   "metadata": {
    "celltests": [
     "# Use %cell to mark where the cell should be inserted, or add a line comment \"# no %cell\" to deliberately skip the cell\n",
     "%cell\n",
     "assert function() == \"success\"\n",
     "\n",
     "\n",
     "\n"
    ]
   },
   "outputs": [],
   "source": [
    "def function():\n",
    "    return \"success\""
   ]
  },
  {
   "cell_type": "code",
   "execution_count": 2,
   "id": "048077aa",
   "metadata": {
    "celltests": [
     "# Use %cell to mark where the cell should be inserted, or add a line comment \"# no %cell\" to deliberately skip the cell\n",
     "%cell\n",
     "assert function() == \"success\"\n",
     "\n",
     "\n",
     "\n"
    ]
   },
   "outputs": [],
   "source": [
    "def function():\n",
    "    return \"success\""
   ]
  },
  {
   "cell_type": "code",
   "execution_count": 1,
   "id": "517f784e",
   "metadata": {
    "celltests": [
     "# Use %cell to mark where the cell should be inserted, or add a line comment \"# no %cell\" to deliberately skip the cell\n",
     "%cell\n",
     "assert function() != \"fail\"\n",
     "# assert function() != \"success\"\n",
     "\n",
     "\n",
     "\n",
     "\n"
    ]
   },
   "outputs": [],
   "source": [
    "def function():\n",
    "    return \"success\""
   ]
  },
  {
   "cell_type": "code",
   "execution_count": null,
   "id": "f14eb641",
   "metadata": {
    "celltests": [
     "# Use %cell to mark where the cell should be inserted, or add a line comment \"# no %cell\" to deliberately skip the cell\n",
     "%cell\n",
     "assert function() == \"success\"\n",
     "\n",
     "\n"
    ]
   },
   "outputs": [],
   "source": [
    "def function():\n",
    "    return \"success\""
   ]
  }
 ],
 "metadata": {
  "kernelspec": {
   "display_name": "Python 3 (ipykernel)",
   "language": "python",
   "name": "python3"
  },
  "language_info": {
   "codemirror_mode": {
    "name": "ipython",
    "version": 3
   },
   "file_extension": ".py",
   "mimetype": "text/x-python",
   "name": "python",
   "nbconvert_exporter": "python",
   "pygments_lexer": "ipython3",
   "version": "3.9.7"
  }
 },
 "nbformat": 4,
 "nbformat_minor": 5
}
